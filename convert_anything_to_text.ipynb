{
  "nbformat": 4,
  "nbformat_minor": 0,
  "metadata": {
    "colab": {
      "provenance": []
    },
    "kernelspec": {
      "name": "python3",
      "display_name": "Python 3"
    },
    "language_info": {
      "name": "python"
    }
  },
  "cells": [
    {
      "cell_type": "code",
      "execution_count": 1,
      "metadata": {
        "colab": {
          "base_uri": "https://localhost:8080/"
        },
        "id": "KpNI-9V54V_b",
        "outputId": "0f42670e-005c-4ff7-b48a-fd8c1cc0d3de"
      },
      "outputs": [
        {
          "output_type": "stream",
          "name": "stdout",
          "text": [
            "Looking in indexes: https://pypi.org/simple, https://us-python.pkg.dev/colab-wheels/public/simple/\n",
            "Collecting python-magic\n",
            "  Downloading python_magic-0.4.27-py2.py3-none-any.whl (13 kB)\n",
            "Collecting python-pptx\n",
            "  Downloading python-pptx-0.6.21.tar.gz (10.1 MB)\n",
            "\u001b[2K     \u001b[90m━━━━━━━━━━━━━━━━━━━━━━━━━━━━━━━━━━━━━━━━\u001b[0m \u001b[32m10.1/10.1 MB\u001b[0m \u001b[31m76.3 MB/s\u001b[0m eta \u001b[36m0:00:00\u001b[0m\n",
            "\u001b[?25h  Preparing metadata (setup.py) ... \u001b[?25l\u001b[?25hdone\n",
            "Collecting PyPDF2\n",
            "  Downloading pypdf2-3.0.1-py3-none-any.whl (232 kB)\n",
            "\u001b[2K     \u001b[90m━━━━━━━━━━━━━━━━━━━━━━━━━━━━━━━━━━━━━━\u001b[0m \u001b[32m232.6/232.6 kB\u001b[0m \u001b[31m18.8 MB/s\u001b[0m eta \u001b[36m0:00:00\u001b[0m\n",
            "\u001b[?25hCollecting SpeechRecognition\n",
            "  Downloading SpeechRecognition-3.10.0-py2.py3-none-any.whl (32.8 MB)\n",
            "\u001b[2K     \u001b[90m━━━━━━━━━━━━━━━━━━━━━━━━━━━━━━━━━━━━━━━━\u001b[0m \u001b[32m32.8/32.8 MB\u001b[0m \u001b[31m28.6 MB/s\u001b[0m eta \u001b[36m0:00:00\u001b[0m\n",
            "\u001b[?25hCollecting pydub\n",
            "  Downloading pydub-0.25.1-py2.py3-none-any.whl (32 kB)\n",
            "Requirement already satisfied: lxml>=3.1.0 in /usr/local/lib/python3.10/dist-packages (from python-pptx) (4.9.2)\n",
            "Requirement already satisfied: Pillow>=3.3.2 in /usr/local/lib/python3.10/dist-packages (from python-pptx) (8.4.0)\n",
            "Collecting XlsxWriter>=0.5.7 (from python-pptx)\n",
            "  Downloading XlsxWriter-3.1.2-py3-none-any.whl (153 kB)\n",
            "\u001b[2K     \u001b[90m━━━━━━━━━━━━━━━━━━━━━━━━━━━━━━━━━━━━━━\u001b[0m \u001b[32m153.0/153.0 kB\u001b[0m \u001b[31m19.1 MB/s\u001b[0m eta \u001b[36m0:00:00\u001b[0m\n",
            "\u001b[?25hRequirement already satisfied: requests>=2.26.0 in /usr/local/lib/python3.10/dist-packages (from SpeechRecognition) (2.27.1)\n",
            "Requirement already satisfied: urllib3<1.27,>=1.21.1 in /usr/local/lib/python3.10/dist-packages (from requests>=2.26.0->SpeechRecognition) (1.26.15)\n",
            "Requirement already satisfied: certifi>=2017.4.17 in /usr/local/lib/python3.10/dist-packages (from requests>=2.26.0->SpeechRecognition) (2022.12.7)\n",
            "Requirement already satisfied: charset-normalizer~=2.0.0 in /usr/local/lib/python3.10/dist-packages (from requests>=2.26.0->SpeechRecognition) (2.0.12)\n",
            "Requirement already satisfied: idna<4,>=2.5 in /usr/local/lib/python3.10/dist-packages (from requests>=2.26.0->SpeechRecognition) (3.4)\n",
            "Building wheels for collected packages: python-pptx\n",
            "  Building wheel for python-pptx (setup.py) ... \u001b[?25l\u001b[?25hdone\n",
            "  Created wheel for python-pptx: filename=python_pptx-0.6.21-py3-none-any.whl size=470935 sha256=282bf42a1cd5998f5015d9f56b7723fc284afce1040093ce7b1d60852d4a2bc0\n",
            "  Stored in directory: /root/.cache/pip/wheels/ea/dd/74/01b3ec7256a0800b99384e9a0f7620e358afc3a51a59bf9b49\n",
            "Successfully built python-pptx\n",
            "Installing collected packages: pydub, XlsxWriter, python-magic, PyPDF2, SpeechRecognition, python-pptx\n",
            "Successfully installed PyPDF2-3.0.1 SpeechRecognition-3.10.0 XlsxWriter-3.1.2 pydub-0.25.1 python-magic-0.4.27 python-pptx-0.6.21\n"
          ]
        }
      ],
      "source": [
        "!pip install python-magic python-pptx PyPDF2 SpeechRecognition pydub\n"
      ]
    },
    {
      "cell_type": "code",
      "source": [
        "import os\n",
        "import magic\n",
        "import PyPDF2\n",
        "import speech_recognition as sr\n",
        "from pptx import Presentation\n",
        "from pydub import AudioSegment\n",
        "from pydub.silence import split_on_silence\n",
        "\n",
        "def identify_file_type(file_path):\n",
        "    file_mime_type = magic.from_file(file_path, mime=True)\n",
        "    print(file_mime_type)\n",
        "    if file_mime_type == 'application/vnd.openxmlformats-officedocument.presentationml.presentation':\n",
        "        return 'pptx'\n",
        "    elif file_mime_type == 'application/pdf':\n",
        "        return 'pdf'\n",
        "    elif file_mime_type.startswith('video/'):\n",
        "        return 'video'\n",
        "    else:\n",
        "        return None\n",
        "\n",
        "def extract_text_from_ppt(ppt_path, output_path):\n",
        "    prs = Presentation(ppt_path)\n",
        "    extracted_text = \"\"\n",
        "    for slide in prs.slides:\n",
        "        for shape in slide.shapes:\n",
        "            if hasattr(shape, \"text\"):\n",
        "                extracted_text += shape.text + \"\\n\"\n",
        "\n",
        "    with open(output_path, 'w', encoding='utf-8') as output_file:\n",
        "        output_file.write(extracted_text)\n",
        "\n",
        "def extract_text_from_pdf(pdf_path, output_path):\n",
        "    with open(pdf_path, 'rb') as file:\n",
        "        reader = PyPDF2.PdfReader(file)\n",
        "        num_pages = len(reader.pages)\n",
        "\n",
        "        extracted_text = \"\"\n",
        "        for page_number in range(num_pages):\n",
        "            page = reader.pages[page_number]\n",
        "            extracted_text += page.extract_text()\n",
        "\n",
        "    with open(output_path, 'w', encoding='utf-8') as output_file:\n",
        "        output_file.write(extracted_text)\n",
        "\n",
        "def extract_text_from_video(video_path, output_path):\n",
        "    # Convert video to audio\n",
        "    audio_path = 'temp_audio.wav'\n",
        "    video = AudioSegment.from_file(video_path)\n",
        "    audio = video.set_channels(1).set_frame_rate(16000)\n",
        "    audio.export(audio_path, format='wav')\n",
        "\n",
        "    # Split audio on silence\n",
        "    audio = AudioSegment.from_wav(audio_path)\n",
        "    chunks = split_on_silence(audio, min_silence_len=500, silence_thresh=-40)\n",
        "\n",
        "    # Initialize speech recognizer\n",
        "    recognizer = sr.Recognizer()\n",
        "    extracted_text = \"\"\n",
        "\n",
        "    # Process audio chunks\n",
        "    for i, chunk in enumerate(chunks):\n",
        "        chunk.export(f'temp_chunk_{i}.wav', format='wav')\n",
        "        with sr.AudioFile(f'temp_chunk_{i}.wav') as audio_file:\n",
        "            audio_data = recognizer.record(audio_file)\n",
        "            try:\n",
        "              text = recognizer.recognize_google(audio_data)\n",
        "              extracted_text += text + \" \"\n",
        "            except sr.UnknownValueError:\n",
        "              extracted_text += \"[Unrecognized Speech] \"\n",
        "\n",
        "    with open(output_path, 'w', encoding='utf-8') as output_file:\n",
        "        output_file.write(extracted_text)\n",
        "\n",
        "    # Clean up temporary files\n",
        "    os.remove(audio_path)\n",
        "    for i in range(len(chunks)):\n",
        "        os.remove(f'temp_chunk_{i}.wav')\n"
      ],
      "metadata": {
        "colab": {
          "base_uri": "https://localhost:8080/"
        },
        "id": "7-C-5T1B5u2x",
        "outputId": "273fe7af-03f1-4477-935e-0df688889d7c"
      },
      "execution_count": 17,
      "outputs": [
        {
          "output_type": "stream",
          "name": "stdout",
          "text": [
            "video/x-m4v\n"
          ]
        }
      ]
    },
    {
      "cell_type": "code",
      "source": [
        "# Example usage\n",
        "file_path = '/content/videofile.m4v'\n",
        "output_file_path = '/content/video_to_text.txt'\n",
        "\n",
        "file_type = identify_file_type(file_path)\n",
        "if file_type == 'pptx':\n",
        "    extract_text_from_ppt(file_path, output_file_path)\n",
        "elif file_type == 'pdf':\n",
        "    extract_text_from_pdf(file_path, output_file_path)\n",
        "elif file_type == 'video':\n",
        "  extract_text_from_video(file_path, output_file_path)"
      ],
      "metadata": {
        "id": "NRgVLAo8_AOU"
      },
      "execution_count": null,
      "outputs": []
    }
  ]
}
